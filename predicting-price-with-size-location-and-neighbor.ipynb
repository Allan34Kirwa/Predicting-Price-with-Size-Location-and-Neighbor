{
 "cells": [
  {
   "cell_type": "code",
   "execution_count": 1,
   "id": "8399f158",
   "metadata": {
    "_cell_guid": "b1076dfc-b9ad-4769-8c92-a6c4dae69d19",
    "_uuid": "8f2839f25d086af736a60e9eeb907d3b93b6e0e5",
    "execution": {
     "iopub.execute_input": "2024-02-13T15:43:54.377728Z",
     "iopub.status.busy": "2024-02-13T15:43:54.376856Z",
     "iopub.status.idle": "2024-02-13T15:43:57.927864Z",
     "shell.execute_reply": "2024-02-13T15:43:57.926264Z"
    },
    "papermill": {
     "duration": 3.569228,
     "end_time": "2024-02-13T15:43:57.931435",
     "exception": false,
     "start_time": "2024-02-13T15:43:54.362207",
     "status": "completed"
    },
    "tags": []
   },
   "outputs": [
    {
     "name": "stdout",
     "output_type": "stream",
     "text": [
      "/kaggle/input/all-datasets-of-buenos-aires/buenos-aires-real-estate-2.csv\n",
      "/kaggle/input/all-datasets-of-buenos-aires/buenos-aires-real-estate-1.csv\n",
      "/kaggle/input/all-datasets-of-buenos-aires/buenos-aires-real-estate-5.csv\n",
      "/kaggle/input/all-datasets-of-buenos-aires/buenos-aires-real-estate-3.csv\n",
      "/kaggle/input/all-datasets-of-buenos-aires/buenos-aires-real-estate-4.csv\n"
     ]
    }
   ],
   "source": [
    "\n",
    "import warnings\n",
    "from glob import glob \n",
    "import numpy as np # linear algebra\n",
    "import seaborn as sns\n",
    "import pandas as pd # data processing, CSV file I/O (e.g. pd.read_csv)\n",
    "from category_encoders import OneHotEncoder\n",
    "from IPython.display import VimeoVideo\n",
    "from ipywidgets import Dropdown, FloatSlider, IntSlider, interact\n",
    "from sklearn.impute import SimpleImputer\n",
    "from sklearn.linear_model import LinearRegression, Ridge  # noqa F401\n",
    "from sklearn.metrics import mean_absolute_error\n",
    "from sklearn.pipeline import make_pipeline\n",
    "from sklearn.utils.validation import check_is_fitted\n",
    "\n",
    "warnings.simplefilter(action=\"ignore\", category=FutureWarning)\n",
    "# Input data files are available in the read-only \"../input/\" directory\n",
    "# For example, running this (by clicking run or pressing Shift+Enter) will list all files under the input directory\n",
    "\n",
    "import os\n",
    "for dirname, _, filenames in os.walk('/kaggle/input'):\n",
    "    for filename in filenames:\n",
    "        print(os.path.join(dirname, filename))\n",
    "\n"
   ]
  },
  {
   "cell_type": "markdown",
   "id": "e0193504",
   "metadata": {
    "papermill": {
     "duration": 0.01156,
     "end_time": "2024-02-13T15:43:57.955339",
     "exception": false,
     "start_time": "2024-02-13T15:43:57.943779",
     "status": "completed"
    },
    "tags": []
   },
   "source": [
    "In this project, I will be creating a model aimed at predicting `Buenos Aires` House Prices based on `Size`, `Location` and `Neighborhood`"
   ]
  },
  {
   "cell_type": "markdown",
   "id": "52ce9e5a",
   "metadata": {
    "papermill": {
     "duration": 0.011589,
     "end_time": "2024-02-13T15:43:57.979109",
     "exception": false,
     "start_time": "2024-02-13T15:43:57.967520",
     "status": "completed"
    },
    "tags": []
   },
   "source": [
    "`Prepare Data` is the first step"
   ]
  },
  {
   "cell_type": "code",
   "execution_count": 2,
   "id": "d5aa7cf0",
   "metadata": {
    "execution": {
     "iopub.execute_input": "2024-02-13T15:43:58.007130Z",
     "iopub.status.busy": "2024-02-13T15:43:58.005537Z",
     "iopub.status.idle": "2024-02-13T15:43:58.016430Z",
     "shell.execute_reply": "2024-02-13T15:43:58.015462Z"
    },
    "papermill": {
     "duration": 0.027924,
     "end_time": "2024-02-13T15:43:58.020075",
     "exception": false,
     "start_time": "2024-02-13T15:43:57.992151",
     "status": "completed"
    },
    "tags": []
   },
   "outputs": [],
   "source": [
    "# First,I will create my wrangle function\n",
    "def wrangle(filepath):\n",
    "    # Read CSV file\n",
    "    df = pd.read_csv(filepath)\n",
    "\n",
    "    # Subset data: Apartments in \"Capital Federal\", less than 400,000\n",
    "    mask_ba = df[\"place_with_parent_names\"].str.contains(\"Capital Federal\")\n",
    "    mask_apt = df[\"property_type\"] == \"apartment\"\n",
    "    mask_price = df[\"price_aprox_usd\"] < 400_000\n",
    "    df = df[mask_ba & mask_apt & mask_price]\n",
    "\n",
    "    # Subset data: Remove outliers for \"surface_covered_in_m2\"\n",
    "    low, high = df[\"surface_covered_in_m2\"].quantile([0.1, 0.9])\n",
    "    mask_area = df[\"surface_covered_in_m2\"].between(low, high)\n",
    "    df = df[mask_area]\n",
    "\n",
    "    # Split \"lat-lon\" column\n",
    "    df[[\"lat\", \"lon\"]] = df[\"lat-lon\"].str.split(\",\", expand=True).astype(float)\n",
    "    df.drop(columns=\"lat-lon\", inplace=True)\n",
    "\n",
    "    # Get place name\n",
    "    df[\"neighborhood\"] = df[\"place_with_parent_names\"].str.split(\"|\", expand=True)[3]\n",
    "    df.drop(columns=\"place_with_parent_names\", inplace=True)\n",
    "    \n",
    "    # Drop features with high null counts\n",
    "    df.drop(columns = [\"floor\", \"expenses\"], inplace=True)\n",
    "    \n",
    "    # Drop low- and high-cardinality categorical variables\n",
    "    df.drop(columns=[\"operation\", \"property_type\", \"currency\", \"properati_url\"], inplace=True)\n",
    "    \n",
    "    # Drop leaky columns\n",
    "    df.drop(columns=[\n",
    "        \"price\",\n",
    "        \"price_aprox_local_currency\",\n",
    "        \"price_per_m2\",\n",
    "        \"price_usd_per_m2\",\n",
    "    ], inplace=True\n",
    "           )\n",
    "    \n",
    "    # Drop columns with multicollinearity\n",
    "    df.drop(columns=[\"surface_total_in_m2\", \"rooms\"], inplace=True)\n",
    "    \n",
    "    return df"
   ]
  },
  {
   "cell_type": "markdown",
   "id": "fd2103f5",
   "metadata": {
    "papermill": {
     "duration": 0.011538,
     "end_time": "2024-02-13T15:43:58.044554",
     "exception": false,
     "start_time": "2024-02-13T15:43:58.033016",
     "status": "completed"
    },
    "tags": []
   },
   "source": [
    "Use `glob` to create a list that contains the filenames for all the `Buenos Aires` real estate CSV files in the data directory. Assign this list to the variable name files."
   ]
  },
  {
   "cell_type": "code",
   "execution_count": 3,
   "id": "791b4b82",
   "metadata": {
    "execution": {
     "iopub.execute_input": "2024-02-13T15:43:58.069934Z",
     "iopub.status.busy": "2024-02-13T15:43:58.069463Z",
     "iopub.status.idle": "2024-02-13T15:43:58.078867Z",
     "shell.execute_reply": "2024-02-13T15:43:58.077842Z"
    },
    "papermill": {
     "duration": 0.024898,
     "end_time": "2024-02-13T15:43:58.081121",
     "exception": false,
     "start_time": "2024-02-13T15:43:58.056223",
     "status": "completed"
    },
    "tags": []
   },
   "outputs": [
    {
     "data": {
      "text/plain": [
       "['/kaggle/input/all-datasets-of-buenos-aires/buenos-aires-real-estate-2.csv',\n",
       " '/kaggle/input/all-datasets-of-buenos-aires/buenos-aires-real-estate-1.csv',\n",
       " '/kaggle/input/all-datasets-of-buenos-aires/buenos-aires-real-estate-5.csv',\n",
       " '/kaggle/input/all-datasets-of-buenos-aires/buenos-aires-real-estate-3.csv',\n",
       " '/kaggle/input/all-datasets-of-buenos-aires/buenos-aires-real-estate-4.csv']"
      ]
     },
     "execution_count": 3,
     "metadata": {},
     "output_type": "execute_result"
    }
   ],
   "source": [
    "files =glob(\"/kaggle/input/all-datasets-of-buenos-aires/buenos-aires-real-estate-*.csv\")\n",
    "files"
   ]
  },
  {
   "cell_type": "code",
   "execution_count": 4,
   "id": "fcbad3e5",
   "metadata": {
    "execution": {
     "iopub.execute_input": "2024-02-13T15:43:58.107267Z",
     "iopub.status.busy": "2024-02-13T15:43:58.106350Z",
     "iopub.status.idle": "2024-02-13T15:43:58.112118Z",
     "shell.execute_reply": "2024-02-13T15:43:58.110983Z"
    },
    "papermill": {
     "duration": 0.021979,
     "end_time": "2024-02-13T15:43:58.114843",
     "exception": false,
     "start_time": "2024-02-13T15:43:58.092864",
     "status": "completed"
    },
    "tags": []
   },
   "outputs": [],
   "source": [
    "# Check your work\n",
    "assert len(files) == 5, f\"`files` should contain 5 items, not {len(files)}\""
   ]
  },
  {
   "cell_type": "markdown",
   "id": "9da87998",
   "metadata": {
    "papermill": {
     "duration": 0.01147,
     "end_time": "2024-02-13T15:43:58.138347",
     "exception": false,
     "start_time": "2024-02-13T15:43:58.126877",
     "status": "completed"
    },
    "tags": []
   },
   "source": [
    "I will then put all my DataFrames into a list by using `list comprehension`"
   ]
  },
  {
   "cell_type": "code",
   "execution_count": 5,
   "id": "0148a816",
   "metadata": {
    "execution": {
     "iopub.execute_input": "2024-02-13T15:43:58.164449Z",
     "iopub.status.busy": "2024-02-13T15:43:58.164013Z",
     "iopub.status.idle": "2024-02-13T15:43:58.635867Z",
     "shell.execute_reply": "2024-02-13T15:43:58.634655Z"
    },
    "papermill": {
     "duration": 0.488206,
     "end_time": "2024-02-13T15:43:58.638507",
     "exception": false,
     "start_time": "2024-02-13T15:43:58.150301",
     "status": "completed"
    },
    "tags": []
   },
   "outputs": [],
   "source": [
    "frames = [wrangle(file) for file in files]"
   ]
  },
  {
   "cell_type": "code",
   "execution_count": 6,
   "id": "ff24e975",
   "metadata": {
    "execution": {
     "iopub.execute_input": "2024-02-13T15:43:58.664697Z",
     "iopub.status.busy": "2024-02-13T15:43:58.663951Z",
     "iopub.status.idle": "2024-02-13T15:43:58.682162Z",
     "shell.execute_reply": "2024-02-13T15:43:58.680943Z"
    },
    "papermill": {
     "duration": 0.0342,
     "end_time": "2024-02-13T15:43:58.684743",
     "exception": false,
     "start_time": "2024-02-13T15:43:58.650543",
     "status": "completed"
    },
    "tags": []
   },
   "outputs": [
    {
     "data": {
      "text/html": [
       "<div>\n",
       "<style scoped>\n",
       "    .dataframe tbody tr th:only-of-type {\n",
       "        vertical-align: middle;\n",
       "    }\n",
       "\n",
       "    .dataframe tbody tr th {\n",
       "        vertical-align: top;\n",
       "    }\n",
       "\n",
       "    .dataframe thead th {\n",
       "        text-align: right;\n",
       "    }\n",
       "</style>\n",
       "<table border=\"1\" class=\"dataframe\">\n",
       "  <thead>\n",
       "    <tr style=\"text-align: right;\">\n",
       "      <th></th>\n",
       "      <th>price_aprox_usd</th>\n",
       "      <th>surface_covered_in_m2</th>\n",
       "      <th>lat</th>\n",
       "      <th>lon</th>\n",
       "      <th>neighborhood</th>\n",
       "    </tr>\n",
       "  </thead>\n",
       "  <tbody>\n",
       "    <tr>\n",
       "      <th>2</th>\n",
       "      <td>215000.00</td>\n",
       "      <td>35.0</td>\n",
       "      <td>-34.588993</td>\n",
       "      <td>-58.400133</td>\n",
       "      <td>Recoleta</td>\n",
       "    </tr>\n",
       "    <tr>\n",
       "      <th>9</th>\n",
       "      <td>341550.00</td>\n",
       "      <td>90.0</td>\n",
       "      <td>-34.588044</td>\n",
       "      <td>-58.398066</td>\n",
       "      <td>Recoleta</td>\n",
       "    </tr>\n",
       "    <tr>\n",
       "      <th>12</th>\n",
       "      <td>91156.62</td>\n",
       "      <td>33.0</td>\n",
       "      <td>-34.623320</td>\n",
       "      <td>-58.397461</td>\n",
       "      <td>Monserrat</td>\n",
       "    </tr>\n",
       "    <tr>\n",
       "      <th>13</th>\n",
       "      <td>105000.00</td>\n",
       "      <td>33.0</td>\n",
       "      <td>-34.553897</td>\n",
       "      <td>-58.451939</td>\n",
       "      <td>Belgrano</td>\n",
       "    </tr>\n",
       "    <tr>\n",
       "      <th>17</th>\n",
       "      <td>89681.00</td>\n",
       "      <td>39.0</td>\n",
       "      <td>-34.628813</td>\n",
       "      <td>-58.472230</td>\n",
       "      <td>Villa del Parque</td>\n",
       "    </tr>\n",
       "  </tbody>\n",
       "</table>\n",
       "</div>"
      ],
      "text/plain": [
       "    price_aprox_usd  surface_covered_in_m2        lat        lon  \\\n",
       "2         215000.00                   35.0 -34.588993 -58.400133   \n",
       "9         341550.00                   90.0 -34.588044 -58.398066   \n",
       "12         91156.62                   33.0 -34.623320 -58.397461   \n",
       "13        105000.00                   33.0 -34.553897 -58.451939   \n",
       "17         89681.00                   39.0 -34.628813 -58.472230   \n",
       "\n",
       "        neighborhood  \n",
       "2           Recoleta  \n",
       "9           Recoleta  \n",
       "12         Monserrat  \n",
       "13          Belgrano  \n",
       "17  Villa del Parque  "
      ]
     },
     "execution_count": 6,
     "metadata": {},
     "output_type": "execute_result"
    }
   ],
   "source": [
    "frames[0].head()"
   ]
  },
  {
   "cell_type": "code",
   "execution_count": 7,
   "id": "df897f59",
   "metadata": {
    "execution": {
     "iopub.execute_input": "2024-02-13T15:43:58.711311Z",
     "iopub.status.busy": "2024-02-13T15:43:58.710885Z",
     "iopub.status.idle": "2024-02-13T15:43:58.716704Z",
     "shell.execute_reply": "2024-02-13T15:43:58.715765Z"
    },
    "papermill": {
     "duration": 0.021444,
     "end_time": "2024-02-13T15:43:58.718804",
     "exception": false,
     "start_time": "2024-02-13T15:43:58.697360",
     "status": "completed"
    },
    "tags": []
   },
   "outputs": [],
   "source": [
    "# Check my work\n",
    "assert len(frames) == 5, f\"`frames` should contain 5 items, not {len(frames)}\"\n",
    "assert all(\n",
    "    [isinstance(frame, pd.DataFrame) for frame in frames]\n",
    "), \"The items in `frames` should all be DataFrames.\""
   ]
  },
  {
   "cell_type": "markdown",
   "id": "3cb96d63",
   "metadata": {
    "papermill": {
     "duration": 0.011716,
     "end_time": "2024-02-13T15:43:58.742741",
     "exception": false,
     "start_time": "2024-02-13T15:43:58.731025",
     "status": "completed"
    },
    "tags": []
   },
   "source": [
    " Use `pd.concat` to concatenate it items in frames into a single DataFrame df. Make sure you set the `ignore_index` argument to True."
   ]
  },
  {
   "cell_type": "code",
   "execution_count": 8,
   "id": "d65cb8d7",
   "metadata": {
    "execution": {
     "iopub.execute_input": "2024-02-13T15:43:58.768772Z",
     "iopub.status.busy": "2024-02-13T15:43:58.767992Z",
     "iopub.status.idle": "2024-02-13T15:43:58.801683Z",
     "shell.execute_reply": "2024-02-13T15:43:58.800506Z"
    },
    "papermill": {
     "duration": 0.049627,
     "end_time": "2024-02-13T15:43:58.804244",
     "exception": false,
     "start_time": "2024-02-13T15:43:58.754617",
     "status": "completed"
    },
    "tags": []
   },
   "outputs": [
    {
     "name": "stdout",
     "output_type": "stream",
     "text": [
      "<class 'pandas.core.frame.DataFrame'>\n",
      "RangeIndex: 6582 entries, 0 to 6581\n",
      "Data columns (total 5 columns):\n",
      " #   Column                 Non-Null Count  Dtype  \n",
      "---  ------                 --------------  -----  \n",
      " 0   price_aprox_usd        6582 non-null   float64\n",
      " 1   surface_covered_in_m2  6582 non-null   float64\n",
      " 2   lat                    6316 non-null   float64\n",
      " 3   lon                    6316 non-null   float64\n",
      " 4   neighborhood           6582 non-null   object \n",
      "dtypes: float64(4), object(1)\n",
      "memory usage: 257.2+ KB\n",
      "None\n"
     ]
    },
    {
     "data": {
      "text/html": [
       "<div>\n",
       "<style scoped>\n",
       "    .dataframe tbody tr th:only-of-type {\n",
       "        vertical-align: middle;\n",
       "    }\n",
       "\n",
       "    .dataframe tbody tr th {\n",
       "        vertical-align: top;\n",
       "    }\n",
       "\n",
       "    .dataframe thead th {\n",
       "        text-align: right;\n",
       "    }\n",
       "</style>\n",
       "<table border=\"1\" class=\"dataframe\">\n",
       "  <thead>\n",
       "    <tr style=\"text-align: right;\">\n",
       "      <th></th>\n",
       "      <th>price_aprox_usd</th>\n",
       "      <th>surface_covered_in_m2</th>\n",
       "      <th>lat</th>\n",
       "      <th>lon</th>\n",
       "      <th>neighborhood</th>\n",
       "    </tr>\n",
       "  </thead>\n",
       "  <tbody>\n",
       "    <tr>\n",
       "      <th>0</th>\n",
       "      <td>215000.00</td>\n",
       "      <td>35.0</td>\n",
       "      <td>-34.588993</td>\n",
       "      <td>-58.400133</td>\n",
       "      <td>Recoleta</td>\n",
       "    </tr>\n",
       "    <tr>\n",
       "      <th>1</th>\n",
       "      <td>341550.00</td>\n",
       "      <td>90.0</td>\n",
       "      <td>-34.588044</td>\n",
       "      <td>-58.398066</td>\n",
       "      <td>Recoleta</td>\n",
       "    </tr>\n",
       "    <tr>\n",
       "      <th>2</th>\n",
       "      <td>91156.62</td>\n",
       "      <td>33.0</td>\n",
       "      <td>-34.623320</td>\n",
       "      <td>-58.397461</td>\n",
       "      <td>Monserrat</td>\n",
       "    </tr>\n",
       "    <tr>\n",
       "      <th>3</th>\n",
       "      <td>105000.00</td>\n",
       "      <td>33.0</td>\n",
       "      <td>-34.553897</td>\n",
       "      <td>-58.451939</td>\n",
       "      <td>Belgrano</td>\n",
       "    </tr>\n",
       "    <tr>\n",
       "      <th>4</th>\n",
       "      <td>89681.00</td>\n",
       "      <td>39.0</td>\n",
       "      <td>-34.628813</td>\n",
       "      <td>-58.472230</td>\n",
       "      <td>Villa del Parque</td>\n",
       "    </tr>\n",
       "  </tbody>\n",
       "</table>\n",
       "</div>"
      ],
      "text/plain": [
       "   price_aprox_usd  surface_covered_in_m2        lat        lon  \\\n",
       "0        215000.00                   35.0 -34.588993 -58.400133   \n",
       "1        341550.00                   90.0 -34.588044 -58.398066   \n",
       "2         91156.62                   33.0 -34.623320 -58.397461   \n",
       "3        105000.00                   33.0 -34.553897 -58.451939   \n",
       "4         89681.00                   39.0 -34.628813 -58.472230   \n",
       "\n",
       "       neighborhood  \n",
       "0          Recoleta  \n",
       "1          Recoleta  \n",
       "2         Monserrat  \n",
       "3          Belgrano  \n",
       "4  Villa del Parque  "
      ]
     },
     "execution_count": 8,
     "metadata": {},
     "output_type": "execute_result"
    }
   ],
   "source": [
    "df = pd.concat(frames, ignore_index=True)\n",
    "print(df.info())\n",
    "df.head()"
   ]
  },
  {
   "cell_type": "code",
   "execution_count": 9,
   "id": "f93f2ee9",
   "metadata": {
    "execution": {
     "iopub.execute_input": "2024-02-13T15:43:58.830954Z",
     "iopub.status.busy": "2024-02-13T15:43:58.830464Z",
     "iopub.status.idle": "2024-02-13T15:43:58.836320Z",
     "shell.execute_reply": "2024-02-13T15:43:58.834904Z"
    },
    "papermill": {
     "duration": 0.021978,
     "end_time": "2024-02-13T15:43:58.838649",
     "exception": false,
     "start_time": "2024-02-13T15:43:58.816671",
     "status": "completed"
    },
    "tags": []
   },
   "outputs": [],
   "source": [
    "# Check your work\n",
    "assert len(df) == 6582, f\"`df` has the wrong number of rows: {len(df)}\"\n",
    "assert df.shape[1] <= 17, f\"`df` has too many columns: {df.shape[1]}\""
   ]
  },
  {
   "cell_type": "markdown",
   "id": "aec28cf3",
   "metadata": {
    "papermill": {
     "duration": 0.011894,
     "end_time": "2024-02-13T15:43:58.862966",
     "exception": false,
     "start_time": "2024-02-13T15:43:58.851072",
     "status": "completed"
    },
    "tags": []
   },
   "source": [
    "**`Explore`**"
   ]
  },
  {
   "cell_type": "code",
   "execution_count": 10,
   "id": "5d87ddb5",
   "metadata": {
    "execution": {
     "iopub.execute_input": "2024-02-13T15:43:58.890084Z",
     "iopub.status.busy": "2024-02-13T15:43:58.889600Z",
     "iopub.status.idle": "2024-02-13T15:43:58.900618Z",
     "shell.execute_reply": "2024-02-13T15:43:58.899397Z"
    },
    "papermill": {
     "duration": 0.02743,
     "end_time": "2024-02-13T15:43:58.902874",
     "exception": false,
     "start_time": "2024-02-13T15:43:58.875444",
     "status": "completed"
    },
    "tags": []
   },
   "outputs": [
    {
     "data": {
      "text/plain": [
       "price_aprox_usd          0.000000\n",
       "surface_covered_in_m2    0.000000\n",
       "lat                      0.040413\n",
       "lon                      0.040413\n",
       "neighborhood             0.000000\n",
       "dtype: float64"
      ]
     },
     "execution_count": 10,
     "metadata": {},
     "output_type": "execute_result"
    }
   ],
   "source": [
    "# When exploring my data, I will have to check on columns that have a lot of null values\n",
    "df.isnull().sum() / len(df)"
   ]
  },
  {
   "cell_type": "markdown",
   "id": "92d71ba2",
   "metadata": {
    "papermill": {
     "duration": 0.011958,
     "end_time": "2024-02-13T15:43:58.927227",
     "exception": false,
     "start_time": "2024-02-13T15:43:58.915269",
     "status": "completed"
    },
    "tags": []
   },
   "source": [
    "From this, I can see that `floor`, `expenses` have `NaN` values that is more than 50%\n",
    "I will then have to drop these two columns in my `wrangle` function."
   ]
  },
  {
   "cell_type": "code",
   "execution_count": 11,
   "id": "251c6831",
   "metadata": {
    "execution": {
     "iopub.execute_input": "2024-02-13T15:43:58.954828Z",
     "iopub.status.busy": "2024-02-13T15:43:58.953869Z",
     "iopub.status.idle": "2024-02-13T15:43:58.958527Z",
     "shell.execute_reply": "2024-02-13T15:43:58.957622Z"
    },
    "papermill": {
     "duration": 0.02105,
     "end_time": "2024-02-13T15:43:58.960765",
     "exception": false,
     "start_time": "2024-02-13T15:43:58.939715",
     "status": "completed"
    },
    "tags": []
   },
   "outputs": [],
   "source": [
    "# Dropping my features with high count of NaN values\n",
    "#               df.drop(columns=[\"floor\", \"expenses\"], inplace=True)"
   ]
  },
  {
   "cell_type": "code",
   "execution_count": 12,
   "id": "ccf5ffcc",
   "metadata": {
    "execution": {
     "iopub.execute_input": "2024-02-13T15:43:58.988081Z",
     "iopub.status.busy": "2024-02-13T15:43:58.987200Z",
     "iopub.status.idle": "2024-02-13T15:43:58.992173Z",
     "shell.execute_reply": "2024-02-13T15:43:58.991323Z"
    },
    "papermill": {
     "duration": 0.021355,
     "end_time": "2024-02-13T15:43:58.994525",
     "exception": false,
     "start_time": "2024-02-13T15:43:58.973170",
     "status": "completed"
    },
    "tags": []
   },
   "outputs": [],
   "source": [
    "# Check your work\n",
    "assert len(df) == 6582, f\"`df` has the wrong number of rows: {len(df)}\"\n",
    "assert df.shape[1] <= 15, f\"`df` has too many columns: {df.shape[1]}\""
   ]
  },
  {
   "cell_type": "markdown",
   "id": "c9f68a05",
   "metadata": {
    "papermill": {
     "duration": 0.012391,
     "end_time": "2024-02-13T15:43:59.019758",
     "exception": false,
     "start_time": "2024-02-13T15:43:59.007367",
     "status": "completed"
    },
    "tags": []
   },
   "source": [
    "The next step is to check for `low` and `high` cardinality categorical features"
   ]
  },
  {
   "cell_type": "code",
   "execution_count": 13,
   "id": "7540dd01",
   "metadata": {
    "execution": {
     "iopub.execute_input": "2024-02-13T15:43:59.047609Z",
     "iopub.status.busy": "2024-02-13T15:43:59.046802Z",
     "iopub.status.idle": "2024-02-13T15:43:59.056621Z",
     "shell.execute_reply": "2024-02-13T15:43:59.055446Z"
    },
    "papermill": {
     "duration": 0.026875,
     "end_time": "2024-02-13T15:43:59.059115",
     "exception": false,
     "start_time": "2024-02-13T15:43:59.032240",
     "status": "completed"
    },
    "tags": []
   },
   "outputs": [
    {
     "data": {
      "text/plain": [
       "neighborhood    57\n",
       "dtype: int64"
      ]
     },
     "execution_count": 13,
     "metadata": {},
     "output_type": "execute_result"
    }
   ],
   "source": [
    "#  I will look at `categorical features`\n",
    "df.select_dtypes(\"object\").nunique()"
   ]
  },
  {
   "cell_type": "markdown",
   "id": "c06ba87f",
   "metadata": {
    "papermill": {
     "duration": 0.088328,
     "end_time": "2024-02-13T15:43:59.159778",
     "exception": false,
     "start_time": "2024-02-13T15:43:59.071450",
     "status": "completed"
    },
    "tags": []
   },
   "source": [
    "From this, I will have to drop the `categorical features` with `low` and high` cardinality`\n",
    "They include operation, property_type,currency and properati_url\n"
   ]
  },
  {
   "cell_type": "code",
   "execution_count": 14,
   "id": "c2ebc937",
   "metadata": {
    "execution": {
     "iopub.execute_input": "2024-02-13T15:43:59.186835Z",
     "iopub.status.busy": "2024-02-13T15:43:59.186358Z",
     "iopub.status.idle": "2024-02-13T15:43:59.191330Z",
     "shell.execute_reply": "2024-02-13T15:43:59.190138Z"
    },
    "papermill": {
     "duration": 0.0214,
     "end_time": "2024-02-13T15:43:59.193712",
     "exception": false,
     "start_time": "2024-02-13T15:43:59.172312",
     "status": "completed"
    },
    "tags": []
   },
   "outputs": [],
   "source": [
    "# df.drop(columns=[\"operation\", \"property_type\", \"currency\", \"properati_url\"], inplace=True)"
   ]
  },
  {
   "cell_type": "code",
   "execution_count": 15,
   "id": "fa1c34a1",
   "metadata": {
    "execution": {
     "iopub.execute_input": "2024-02-13T15:43:59.220840Z",
     "iopub.status.busy": "2024-02-13T15:43:59.220379Z",
     "iopub.status.idle": "2024-02-13T15:43:59.225930Z",
     "shell.execute_reply": "2024-02-13T15:43:59.224830Z"
    },
    "papermill": {
     "duration": 0.021794,
     "end_time": "2024-02-13T15:43:59.228232",
     "exception": false,
     "start_time": "2024-02-13T15:43:59.206438",
     "status": "completed"
    },
    "tags": []
   },
   "outputs": [],
   "source": [
    "# Check your work\n",
    "assert len(df) == 6582, f\"`df` has the wrong number of rows: {len(df)}\"\n",
    "assert df.shape[1] <= 11, f\"`df` has too many columns: {df.shape[1]}\""
   ]
  },
  {
   "cell_type": "markdown",
   "id": "7fb75b69",
   "metadata": {
    "papermill": {
     "duration": 0.012271,
     "end_time": "2024-02-13T15:43:59.253539",
     "exception": false,
     "start_time": "2024-02-13T15:43:59.241268",
     "status": "completed"
    },
    "tags": []
   },
   "source": [
    "Next, I will have to check for `Leakage`"
   ]
  },
  {
   "cell_type": "code",
   "execution_count": 16,
   "id": "9793e4d3",
   "metadata": {
    "execution": {
     "iopub.execute_input": "2024-02-13T15:43:59.282451Z",
     "iopub.status.busy": "2024-02-13T15:43:59.281056Z",
     "iopub.status.idle": "2024-02-13T15:43:59.289980Z",
     "shell.execute_reply": "2024-02-13T15:43:59.288706Z"
    },
    "papermill": {
     "duration": 0.02621,
     "end_time": "2024-02-13T15:43:59.292445",
     "exception": false,
     "start_time": "2024-02-13T15:43:59.266235",
     "status": "completed"
    },
    "tags": []
   },
   "outputs": [
    {
     "data": {
      "text/plain": [
       "['lat', 'lon', 'neighborhood', 'price_aprox_usd', 'surface_covered_in_m2']"
      ]
     },
     "execution_count": 16,
     "metadata": {},
     "output_type": "execute_result"
    }
   ],
   "source": [
    "# Check for leakage\n",
    "sorted(df.columns)"
   ]
  },
  {
   "cell_type": "markdown",
   "id": "38949b19",
   "metadata": {
    "papermill": {
     "duration": 0.012762,
     "end_time": "2024-02-13T15:43:59.318872",
     "exception": false,
     "start_time": "2024-02-13T15:43:59.306110",
     "status": "completed"
    },
    "tags": []
   },
   "source": [
    "From this, I will drop 'price','price_aprox_local_currency', 'price_per_m2',and 'price_usd_per_m2' in my `wrangle` function"
   ]
  },
  {
   "cell_type": "code",
   "execution_count": 17,
   "id": "fcc01d5d",
   "metadata": {
    "execution": {
     "iopub.execute_input": "2024-02-13T15:43:59.346617Z",
     "iopub.status.busy": "2024-02-13T15:43:59.345851Z",
     "iopub.status.idle": "2024-02-13T15:43:59.352523Z",
     "shell.execute_reply": "2024-02-13T15:43:59.351099Z"
    },
    "papermill": {
     "duration": 0.023604,
     "end_time": "2024-02-13T15:43:59.355182",
     "exception": false,
     "start_time": "2024-02-13T15:43:59.331578",
     "status": "completed"
    },
    "tags": []
   },
   "outputs": [],
   "source": [
    "# Check my work\n",
    "assert len(df) == 6582, f\"`df` has the wrong number of rows: {len(df)}\"\n",
    "assert df.shape[1] <= 7, f\"`df` has too many columns: {df.shape[1]}\""
   ]
  },
  {
   "cell_type": "markdown",
   "id": "41af3982",
   "metadata": {
    "papermill": {
     "duration": 0.012466,
     "end_time": "2024-02-13T15:43:59.381443",
     "exception": false,
     "start_time": "2024-02-13T15:43:59.368977",
     "status": "completed"
    },
    "tags": []
   },
   "source": [
    "The last issue that I will have to deal with is `multicollinearity`"
   ]
  },
  {
   "cell_type": "code",
   "execution_count": 18,
   "id": "38188cbb",
   "metadata": {
    "execution": {
     "iopub.execute_input": "2024-02-13T15:43:59.410297Z",
     "iopub.status.busy": "2024-02-13T15:43:59.409765Z",
     "iopub.status.idle": "2024-02-13T15:43:59.419817Z",
     "shell.execute_reply": "2024-02-13T15:43:59.418800Z"
    },
    "papermill": {
     "duration": 0.027953,
     "end_time": "2024-02-13T15:43:59.422423",
     "exception": false,
     "start_time": "2024-02-13T15:43:59.394470",
     "status": "completed"
    },
    "tags": []
   },
   "outputs": [],
   "source": [
    "# Let' determine the correlation for our feature matrix and we'll remove the target vector\n",
    "corr = df.select_dtypes(\"number\").drop(columns=\"price_aprox_usd\").corr()"
   ]
  },
  {
   "cell_type": "code",
   "execution_count": 19,
   "id": "febd7514",
   "metadata": {
    "execution": {
     "iopub.execute_input": "2024-02-13T15:43:59.450879Z",
     "iopub.status.busy": "2024-02-13T15:43:59.449526Z",
     "iopub.status.idle": "2024-02-13T15:43:59.734620Z",
     "shell.execute_reply": "2024-02-13T15:43:59.733272Z"
    },
    "papermill": {
     "duration": 0.301912,
     "end_time": "2024-02-13T15:43:59.737250",
     "exception": false,
     "start_time": "2024-02-13T15:43:59.435338",
     "status": "completed"
    },
    "tags": []
   },
   "outputs": [
    {
     "data": {
      "image/png": "[encoded data removed]",
      "text/plain": [
       "<Figure size 640x480 with 2 Axes>"
      ]
     },
     "metadata": {},
     "output_type": "display_data"
    }
   ],
   "source": [
    "# The next step is plot my heatmap using Seaborn\n",
    "sns.heatmap(corr);"
   ]
  },
  {
   "cell_type": "code",
   "execution_count": 20,
   "id": "efe1bfee",
   "metadata": {
    "execution": {
     "iopub.execute_input": "2024-02-13T15:43:59.766583Z",
     "iopub.status.busy": "2024-02-13T15:43:59.766110Z",
     "iopub.status.idle": "2024-02-13T15:43:59.771240Z",
     "shell.execute_reply": "2024-02-13T15:43:59.769985Z"
    },
    "papermill": {
     "duration": 0.022636,
     "end_time": "2024-02-13T15:43:59.773846",
     "exception": false,
     "start_time": "2024-02-13T15:43:59.751210",
     "status": "completed"
    },
    "tags": []
   },
   "outputs": [],
   "source": [
    "# From my heatmap, I need to drop the columns with multicollinearity\n",
    "# We go to our wrangle  function & drop them\n",
    "# these are three features that are highly related. \n"
   ]
  },
  {
   "cell_type": "code",
   "execution_count": 21,
   "id": "1e3997fe",
   "metadata": {
    "execution": {
     "iopub.execute_input": "2024-02-13T15:43:59.802424Z",
     "iopub.status.busy": "2024-02-13T15:43:59.801521Z",
     "iopub.status.idle": "2024-02-13T15:43:59.815562Z",
     "shell.execute_reply": "2024-02-13T15:43:59.814272Z"
    },
    "papermill": {
     "duration": 0.030793,
     "end_time": "2024-02-13T15:43:59.817839",
     "exception": false,
     "start_time": "2024-02-13T15:43:59.787046",
     "status": "completed"
    },
    "tags": []
   },
   "outputs": [
    {
     "name": "stdout",
     "output_type": "stream",
     "text": [
      "<class 'pandas.core.frame.DataFrame'>\n",
      "RangeIndex: 6582 entries, 0 to 6581\n",
      "Data columns (total 5 columns):\n",
      " #   Column                 Non-Null Count  Dtype  \n",
      "---  ------                 --------------  -----  \n",
      " 0   price_aprox_usd        6582 non-null   float64\n",
      " 1   surface_covered_in_m2  6582 non-null   float64\n",
      " 2   lat                    6316 non-null   float64\n",
      " 3   lon                    6316 non-null   float64\n",
      " 4   neighborhood           6582 non-null   object \n",
      "dtypes: float64(4), object(1)\n",
      "memory usage: 257.2+ KB\n"
     ]
    }
   ],
   "source": [
    "# Data is making decision for us. \n",
    "\n",
    "df.info()\n",
    "\n",
    "# surface_area_total & rooms have large missing values\n",
    "\n",
    "# surface_covered_in_m2 has less missing compared to the other two\n",
    "\n",
    "# I will drop the two (that is surface_total_in_m2 and rooms) in my wrangle function"
   ]
  },
  {
   "cell_type": "code",
   "execution_count": 22,
   "id": "aa955364",
   "metadata": {
    "execution": {
     "iopub.execute_input": "2024-02-13T15:43:59.854508Z",
     "iopub.status.busy": "2024-02-13T15:43:59.853760Z",
     "iopub.status.idle": "2024-02-13T15:43:59.876918Z",
     "shell.execute_reply": "2024-02-13T15:43:59.875308Z"
    },
    "papermill": {
     "duration": 0.044551,
     "end_time": "2024-02-13T15:43:59.880381",
     "exception": false,
     "start_time": "2024-02-13T15:43:59.835830",
     "status": "completed"
    },
    "tags": []
   },
   "outputs": [
    {
     "data": {
      "text/html": [
       "<div>\n",
       "<style scoped>\n",
       "    .dataframe tbody tr th:only-of-type {\n",
       "        vertical-align: middle;\n",
       "    }\n",
       "\n",
       "    .dataframe tbody tr th {\n",
       "        vertical-align: top;\n",
       "    }\n",
       "\n",
       "    .dataframe thead th {\n",
       "        text-align: right;\n",
       "    }\n",
       "</style>\n",
       "<table border=\"1\" class=\"dataframe\">\n",
       "  <thead>\n",
       "    <tr style=\"text-align: right;\">\n",
       "      <th></th>\n",
       "      <th>price_aprox_usd</th>\n",
       "      <th>surface_covered_in_m2</th>\n",
       "      <th>lat</th>\n",
       "      <th>lon</th>\n",
       "      <th>neighborhood</th>\n",
       "    </tr>\n",
       "  </thead>\n",
       "  <tbody>\n",
       "    <tr>\n",
       "      <th>0</th>\n",
       "      <td>215000.00</td>\n",
       "      <td>35.0</td>\n",
       "      <td>-34.588993</td>\n",
       "      <td>-58.400133</td>\n",
       "      <td>Recoleta</td>\n",
       "    </tr>\n",
       "    <tr>\n",
       "      <th>1</th>\n",
       "      <td>341550.00</td>\n",
       "      <td>90.0</td>\n",
       "      <td>-34.588044</td>\n",
       "      <td>-58.398066</td>\n",
       "      <td>Recoleta</td>\n",
       "    </tr>\n",
       "    <tr>\n",
       "      <th>2</th>\n",
       "      <td>91156.62</td>\n",
       "      <td>33.0</td>\n",
       "      <td>-34.623320</td>\n",
       "      <td>-58.397461</td>\n",
       "      <td>Monserrat</td>\n",
       "    </tr>\n",
       "    <tr>\n",
       "      <th>3</th>\n",
       "      <td>105000.00</td>\n",
       "      <td>33.0</td>\n",
       "      <td>-34.553897</td>\n",
       "      <td>-58.451939</td>\n",
       "      <td>Belgrano</td>\n",
       "    </tr>\n",
       "    <tr>\n",
       "      <th>4</th>\n",
       "      <td>89681.00</td>\n",
       "      <td>39.0</td>\n",
       "      <td>-34.628813</td>\n",
       "      <td>-58.472230</td>\n",
       "      <td>Villa del Parque</td>\n",
       "    </tr>\n",
       "  </tbody>\n",
       "</table>\n",
       "</div>"
      ],
      "text/plain": [
       "   price_aprox_usd  surface_covered_in_m2        lat        lon  \\\n",
       "0        215000.00                   35.0 -34.588993 -58.400133   \n",
       "1        341550.00                   90.0 -34.588044 -58.398066   \n",
       "2         91156.62                   33.0 -34.623320 -58.397461   \n",
       "3        105000.00                   33.0 -34.553897 -58.451939   \n",
       "4         89681.00                   39.0 -34.628813 -58.472230   \n",
       "\n",
       "       neighborhood  \n",
       "0          Recoleta  \n",
       "1          Recoleta  \n",
       "2         Monserrat  \n",
       "3          Belgrano  \n",
       "4  Villa del Parque  "
      ]
     },
     "execution_count": 22,
     "metadata": {},
     "output_type": "execute_result"
    }
   ],
   "source": [
    "# Check my work\n",
    "assert len(df) == 6582, f\"`df` has the wrong number of rows: {len(df)}\"\n",
    "assert df.shape[1] == 5, f\"`df` has the wrong number of columns: {df.shape[1]}\"\n",
    "df.head()"
   ]
  },
  {
   "cell_type": "markdown",
   "id": "c81955c5",
   "metadata": {
    "papermill": {
     "duration": 0.01324,
     "end_time": "2024-02-13T15:43:59.907553",
     "exception": false,
     "start_time": "2024-02-13T15:43:59.894313",
     "status": "completed"
    },
    "tags": []
   },
   "source": [
    "Now, I am done  with `EDA`"
   ]
  },
  {
   "cell_type": "markdown",
   "id": "9b918dc2",
   "metadata": {
    "papermill": {
     "duration": 0.013883,
     "end_time": "2024-02-13T15:43:59.934977",
     "exception": false,
     "start_time": "2024-02-13T15:43:59.921094",
     "status": "completed"
    },
    "tags": []
   },
   "source": [
    "The next step is `Split Data`"
   ]
  },
  {
   "cell_type": "markdown",
   "id": "57ba6cbd",
   "metadata": {
    "papermill": {
     "duration": 0.014236,
     "end_time": "2024-02-13T15:43:59.962737",
     "exception": false,
     "start_time": "2024-02-13T15:43:59.948501",
     "status": "completed"
    },
    "tags": []
   },
   "source": [
    "Create your feature matrix `X_train` and target vector `y_train`. Your target is \"price_aprox_usd\". Your features should be all the columns that remain in the DataFrame you cleaned above."
   ]
  },
  {
   "cell_type": "code",
   "execution_count": 23,
   "id": "a0ca621b",
   "metadata": {
    "execution": {
     "iopub.execute_input": "2024-02-13T15:44:00.004400Z",
     "iopub.status.busy": "2024-02-13T15:44:00.003534Z",
     "iopub.status.idle": "2024-02-13T15:44:00.013168Z",
     "shell.execute_reply": "2024-02-13T15:44:00.011739Z"
    },
    "papermill": {
     "duration": 0.034972,
     "end_time": "2024-02-13T15:44:00.016816",
     "exception": false,
     "start_time": "2024-02-13T15:43:59.981844",
     "status": "completed"
    },
    "tags": []
   },
   "outputs": [],
   "source": [
    "target = \"price_aprox_usd\"\n",
    "y_train = df[target]\n",
    "feature = [\"surface_covered_in_m2\", \"lat\", \"lon\", \"neighborhood\"]\n",
    "X_train = df[feature]"
   ]
  },
  {
   "cell_type": "code",
   "execution_count": 24,
   "id": "bddaa13c",
   "metadata": {
    "execution": {
     "iopub.execute_input": "2024-02-13T15:44:00.056509Z",
     "iopub.status.busy": "2024-02-13T15:44:00.055588Z",
     "iopub.status.idle": "2024-02-13T15:44:00.062168Z",
     "shell.execute_reply": "2024-02-13T15:44:00.061000Z"
    },
    "papermill": {
     "duration": 0.032259,
     "end_time": "2024-02-13T15:44:00.066397",
     "exception": false,
     "start_time": "2024-02-13T15:44:00.034138",
     "status": "completed"
    },
    "tags": []
   },
   "outputs": [],
   "source": [
    "# Check my work\n",
    "assert X_train.shape == (6582, 4), f\"`X_train` is the wrong size: {X_train.shape}.\"\n",
    "assert y_train.shape == (6582,), f\"`y_train` is the wrong size: {y_train.shape}.\""
   ]
  },
  {
   "cell_type": "markdown",
   "id": "64d9f9e5",
   "metadata": {
    "papermill": {
     "duration": 0.013979,
     "end_time": "2024-02-13T15:44:00.098990",
     "exception": false,
     "start_time": "2024-02-13T15:44:00.085011",
     "status": "completed"
    },
    "tags": []
   },
   "source": [
    "Then the next step is `Build Model`"
   ]
  },
  {
   "cell_type": "markdown",
   "id": "abd37daa",
   "metadata": {
    "papermill": {
     "duration": 0.013414,
     "end_time": "2024-02-13T15:44:00.128772",
     "exception": false,
     "start_time": "2024-02-13T15:44:00.115358",
     "status": "completed"
    },
    "tags": []
   },
   "source": [
    "1. `Baseline`"
   ]
  },
  {
   "cell_type": "code",
   "execution_count": 25,
   "id": "1308a570",
   "metadata": {
    "execution": {
     "iopub.execute_input": "2024-02-13T15:44:00.157934Z",
     "iopub.status.busy": "2024-02-13T15:44:00.157453Z",
     "iopub.status.idle": "2024-02-13T15:44:00.163369Z",
     "shell.execute_reply": "2024-02-13T15:44:00.161955Z"
    },
    "papermill": {
     "duration": 0.023901,
     "end_time": "2024-02-13T15:44:00.166022",
     "exception": false,
     "start_time": "2024-02-13T15:44:00.142121",
     "status": "completed"
    },
    "tags": []
   },
   "outputs": [],
   "source": [
    "y_mean = y_train.mean()\n",
    "y_pred_baseline = [y_mean] * len(y_train)"
   ]
  },
  {
   "cell_type": "markdown",
   "id": "46f45c16",
   "metadata": {
    "papermill": {
     "duration": 0.013183,
     "end_time": "2024-02-13T15:44:00.192878",
     "exception": false,
     "start_time": "2024-02-13T15:44:00.179695",
     "status": "completed"
    },
    "tags": []
   },
   "source": [
    " Calculate the baseline mean absolute error for your model."
   ]
  },
  {
   "cell_type": "code",
   "execution_count": 26,
   "id": "b90c86fa",
   "metadata": {
    "execution": {
     "iopub.execute_input": "2024-02-13T15:44:00.226847Z",
     "iopub.status.busy": "2024-02-13T15:44:00.225841Z",
     "iopub.status.idle": "2024-02-13T15:44:00.234172Z",
     "shell.execute_reply": "2024-02-13T15:44:00.233254Z"
    },
    "papermill": {
     "duration": 0.030709,
     "end_time": "2024-02-13T15:44:00.237001",
     "exception": false,
     "start_time": "2024-02-13T15:44:00.206292",
     "status": "completed"
    },
    "tags": []
   },
   "outputs": [
    {
     "name": "stdout",
     "output_type": "stream",
     "text": [
      "Mean apt price: 132383.83701458524\n",
      "Baseline MAE: 44860.10834274133\n"
     ]
    }
   ],
   "source": [
    "\n",
    "print(\"Mean apt price:\", y_mean)\n",
    "\n",
    "print(\"Baseline MAE:\", mean_absolute_error(y_train, y_pred_baseline))"
   ]
  },
  {
   "cell_type": "markdown",
   "id": "868385f9",
   "metadata": {
    "papermill": {
     "duration": 0.020583,
     "end_time": "2024-02-13T15:44:00.277438",
     "exception": false,
     "start_time": "2024-02-13T15:44:00.256855",
     "status": "completed"
    },
    "tags": []
   },
   "source": [
    "2. `Iterate`"
   ]
  },
  {
   "cell_type": "markdown",
   "id": "9416d8de",
   "metadata": {
    "papermill": {
     "duration": 0.01533,
     "end_time": "2024-02-13T15:44:00.313620",
     "exception": false,
     "start_time": "2024-02-13T15:44:00.298290",
     "status": "completed"
    },
    "tags": []
   },
   "source": [
    "Create a pipeline named `model` that contains a `OneHotEncoder`, `SimpleImputer`, and `Ridge predictor`."
   ]
  },
  {
   "cell_type": "code",
   "execution_count": 27,
   "id": "69fb3db0",
   "metadata": {
    "execution": {
     "iopub.execute_input": "2024-02-13T15:44:00.343448Z",
     "iopub.status.busy": "2024-02-13T15:44:00.342998Z",
     "iopub.status.idle": "2024-02-13T15:44:00.348711Z",
     "shell.execute_reply": "2024-02-13T15:44:00.347482Z"
    },
    "papermill": {
     "duration": 0.02341,
     "end_time": "2024-02-13T15:44:00.351267",
     "exception": false,
     "start_time": "2024-02-13T15:44:00.327857",
     "status": "completed"
    },
    "tags": []
   },
   "outputs": [],
   "source": [
    "model = make_pipeline(\n",
    "    OneHotEncoder(),\n",
    "    SimpleImputer(),\n",
    "    Ridge()\n",
    ")"
   ]
  },
  {
   "cell_type": "code",
   "execution_count": 28,
   "id": "2046513b",
   "metadata": {
    "execution": {
     "iopub.execute_input": "2024-02-13T15:44:00.382777Z",
     "iopub.status.busy": "2024-02-13T15:44:00.381575Z",
     "iopub.status.idle": "2024-02-13T15:44:00.493398Z",
     "shell.execute_reply": "2024-02-13T15:44:00.492102Z"
    },
    "papermill": {
     "duration": 0.130903,
     "end_time": "2024-02-13T15:44:00.496578",
     "exception": false,
     "start_time": "2024-02-13T15:44:00.365675",
     "status": "completed"
    },
    "tags": []
   },
   "outputs": [
    {
     "data": {
      "text/html": [
       "<style>#sk-container-id-1 {color: black;background-color: white;}#sk-container-id-1 pre{padding: 0;}#sk-container-id-1 div.sk-toggleable {background-color: white;}#sk-container-id-1 label.sk-toggleable__label {cursor: pointer;display: block;width: 100%;margin-bottom: 0;padding: 0.3em;box-sizing: border-box;text-align: center;}#sk-container-id-1 label.sk-toggleable__label-arrow:before {content: \"▸\";float: left;margin-right: 0.25em;color: #696969;}#sk-container-id-1 label.sk-toggleable__label-arrow:hover:before {color: black;}#sk-container-id-1 div.sk-estimator:hover label.sk-toggleable__label-arrow:before {color: black;}#sk-container-id-1 div.sk-toggleable__content {max-height: 0;max-width: 0;overflow: hidden;text-align: left;background-color: #f0f8ff;}#sk-container-id-1 div.sk-toggleable__content pre {margin: 0.2em;color: black;border-radius: 0.25em;background-color: #f0f8ff;}#sk-container-id-1 input.sk-toggleable__control:checked~div.sk-toggleable__content {max-height: 200px;max-width: 100%;overflow: auto;}#sk-container-id-1 input.sk-toggleable__control:checked~label.sk-toggleable__label-arrow:before {content: \"▾\";}#sk-container-id-1 div.sk-estimator input.sk-toggleable__control:checked~label.sk-toggleable__label {background-color: #d4ebff;}#sk-container-id-1 div.sk-label input.sk-toggleable__control:checked~label.sk-toggleable__label {background-color: #d4ebff;}#sk-container-id-1 input.sk-hidden--visually {border: 0;clip: rect(1px 1px 1px 1px);clip: rect(1px, 1px, 1px, 1px);height: 1px;margin: -1px;overflow: hidden;padding: 0;position: absolute;width: 1px;}#sk-container-id-1 div.sk-estimator {font-family: monospace;background-color: #f0f8ff;border: 1px dotted black;border-radius: 0.25em;box-sizing: border-box;margin-bottom: 0.5em;}#sk-container-id-1 div.sk-estimator:hover {background-color: #d4ebff;}#sk-container-id-1 div.sk-parallel-item::after {content: \"\";width: 100%;border-bottom: 1px solid gray;flex-grow: 1;}#sk-container-id-1 div.sk-label:hover label.sk-toggleable__label {background-color: #d4ebff;}#sk-container-id-1 div.sk-serial::before {content: \"\";position: absolute;border-left: 1px solid gray;box-sizing: border-box;top: 0;bottom: 0;left: 50%;z-index: 0;}#sk-container-id-1 div.sk-serial {display: flex;flex-direction: column;align-items: center;background-color: white;padding-right: 0.2em;padding-left: 0.2em;position: relative;}#sk-container-id-1 div.sk-item {position: relative;z-index: 1;}#sk-container-id-1 div.sk-parallel {display: flex;align-items: stretch;justify-content: center;background-color: white;position: relative;}#sk-container-id-1 div.sk-item::before, #sk-container-id-1 div.sk-parallel-item::before {content: \"\";position: absolute;border-left: 1px solid gray;box-sizing: border-box;top: 0;bottom: 0;left: 50%;z-index: -1;}#sk-container-id-1 div.sk-parallel-item {display: flex;flex-direction: column;z-index: 1;position: relative;background-color: white;}#sk-container-id-1 div.sk-parallel-item:first-child::after {align-self: flex-end;width: 50%;}#sk-container-id-1 div.sk-parallel-item:last-child::after {align-self: flex-start;width: 50%;}#sk-container-id-1 div.sk-parallel-item:only-child::after {width: 0;}#sk-container-id-1 div.sk-dashed-wrapped {border: 1px dashed gray;margin: 0 0.4em 0.5em 0.4em;box-sizing: border-box;padding-bottom: 0.4em;background-color: white;}#sk-container-id-1 div.sk-label label {font-family: monospace;font-weight: bold;display: inline-block;line-height: 1.2em;}#sk-container-id-1 div.sk-label-container {text-align: center;}#sk-container-id-1 div.sk-container {/* jupyter's `normalize.less` sets `[hidden] { display: none; }` but bootstrap.min.css set `[hidden] { display: none !important; }` so we also need the `!important` here to be able to override the default hidden behavior on the sphinx rendered scikit-learn.org. See: https://github.com/scikit-learn/scikit-learn/issues/21755 */display: inline-block !important;position: relative;}#sk-container-id-1 div.sk-text-repr-fallback {display: none;}</style><div id=\"sk-container-id-1\" class=\"sk-top-container\"><div class=\"sk-text-repr-fallback\"><pre>Pipeline(steps=[(&#x27;onehotencoder&#x27;, OneHotEncoder(cols=[&#x27;neighborhood&#x27;])),\n",
       "                (&#x27;simpleimputer&#x27;, SimpleImputer()), (&#x27;ridge&#x27;, Ridge())])</pre><b>In a Jupyter environment, please rerun this cell to show the HTML representation or trust the notebook. <br />On GitHub, the HTML representation is unable to render, please try loading this page with nbviewer.org.</b></div><div class=\"sk-container\" hidden><div class=\"sk-item sk-dashed-wrapped\"><div class=\"sk-label-container\"><div class=\"sk-label sk-toggleable\"><input class=\"sk-toggleable__control sk-hidden--visually\" id=\"sk-estimator-id-1\" type=\"checkbox\" ><label for=\"sk-estimator-id-1\" class=\"sk-toggleable__label sk-toggleable__label-arrow\">Pipeline</label><div class=\"sk-toggleable__content\"><pre>Pipeline(steps=[(&#x27;onehotencoder&#x27;, OneHotEncoder(cols=[&#x27;neighborhood&#x27;])),\n",
       "                (&#x27;simpleimputer&#x27;, SimpleImputer()), (&#x27;ridge&#x27;, Ridge())])</pre></div></div></div><div class=\"sk-serial\"><div class=\"sk-item\"><div class=\"sk-estimator sk-toggleable\"><input class=\"sk-toggleable__control sk-hidden--visually\" id=\"sk-estimator-id-2\" type=\"checkbox\" ><label for=\"sk-estimator-id-2\" class=\"sk-toggleable__label sk-toggleable__label-arrow\">OneHotEncoder</label><div class=\"sk-toggleable__content\"><pre>OneHotEncoder(cols=[&#x27;neighborhood&#x27;])</pre></div></div></div><div class=\"sk-item\"><div class=\"sk-estimator sk-toggleable\"><input class=\"sk-toggleable__control sk-hidden--visually\" id=\"sk-estimator-id-3\" type=\"checkbox\" ><label for=\"sk-estimator-id-3\" class=\"sk-toggleable__label sk-toggleable__label-arrow\">SimpleImputer</label><div class=\"sk-toggleable__content\"><pre>SimpleImputer()</pre></div></div></div><div class=\"sk-item\"><div class=\"sk-estimator sk-toggleable\"><input class=\"sk-toggleable__control sk-hidden--visually\" id=\"sk-estimator-id-4\" type=\"checkbox\" ><label for=\"sk-estimator-id-4\" class=\"sk-toggleable__label sk-toggleable__label-arrow\">Ridge</label><div class=\"sk-toggleable__content\"><pre>Ridge()</pre></div></div></div></div></div></div></div>"
      ],
      "text/plain": [
       "Pipeline(steps=[('onehotencoder', OneHotEncoder(cols=['neighborhood'])),\n",
       "                ('simpleimputer', SimpleImputer()), ('ridge', Ridge())])"
      ]
     },
     "execution_count": 28,
     "metadata": {},
     "output_type": "execute_result"
    }
   ],
   "source": [
    "# Then let's fit our model\n",
    "model.fit(X_train, y_train)"
   ]
  },
  {
   "cell_type": "code",
   "execution_count": 29,
   "id": "8f4d47f4",
   "metadata": {
    "execution": {
     "iopub.execute_input": "2024-02-13T15:44:00.546957Z",
     "iopub.status.busy": "2024-02-13T15:44:00.546157Z",
     "iopub.status.idle": "2024-02-13T15:44:00.552508Z",
     "shell.execute_reply": "2024-02-13T15:44:00.551328Z"
    },
    "papermill": {
     "duration": 0.034901,
     "end_time": "2024-02-13T15:44:00.555486",
     "exception": false,
     "start_time": "2024-02-13T15:44:00.520585",
     "status": "completed"
    },
    "tags": []
   },
   "outputs": [],
   "source": [
    "# Check my work\n",
    "check_is_fitted(model[-1])"
   ]
  },
  {
   "cell_type": "markdown",
   "id": "3040141f",
   "metadata": {
    "papermill": {
     "duration": 0.015603,
     "end_time": "2024-02-13T15:44:00.594482",
     "exception": false,
     "start_time": "2024-02-13T15:44:00.578879",
     "status": "completed"
    },
    "tags": []
   },
   "source": [
    "3. `Evaluate`"
   ]
  },
  {
   "cell_type": "markdown",
   "id": "e24f6398",
   "metadata": {
    "papermill": {
     "duration": 0.013291,
     "end_time": "2024-02-13T15:44:00.621593",
     "exception": false,
     "start_time": "2024-02-13T15:44:00.608302",
     "status": "completed"
    },
    "tags": []
   },
   "source": [
    "Calculate the training mean absolute error for your predictions as compared to the true targets in y_train."
   ]
  },
  {
   "cell_type": "code",
   "execution_count": 30,
   "id": "b11e9f8c",
   "metadata": {
    "execution": {
     "iopub.execute_input": "2024-02-13T15:44:00.651306Z",
     "iopub.status.busy": "2024-02-13T15:44:00.650824Z",
     "iopub.status.idle": "2024-02-13T15:44:00.693875Z",
     "shell.execute_reply": "2024-02-13T15:44:00.692536Z"
    },
    "papermill": {
     "duration": 0.061801,
     "end_time": "2024-02-13T15:44:00.697206",
     "exception": false,
     "start_time": "2024-02-13T15:44:00.635405",
     "status": "completed"
    },
    "tags": []
   },
   "outputs": [
    {
     "name": "stdout",
     "output_type": "stream",
     "text": [
      "Training MAE: 24207.10719033019\n"
     ]
    }
   ],
   "source": [
    "y_pred_training = model.predict(X_train)\n",
    "print(\"Training MAE:\", mean_absolute_error(y_train, y_pred_training))"
   ]
  },
  {
   "cell_type": "markdown",
   "id": "5bff1d9f",
   "metadata": {
    "papermill": {
     "duration": 0.022914,
     "end_time": "2024-02-13T15:44:00.743358",
     "exception": false,
     "start_time": "2024-02-13T15:44:00.720444",
     "status": "completed"
    },
    "tags": []
   },
   "source": [
    "The final step is to `Communicate Results`"
   ]
  },
  {
   "cell_type": "markdown",
   "id": "ea79efe9",
   "metadata": {
    "papermill": {
     "duration": 0.022778,
     "end_time": "2024-02-13T15:44:00.789675",
     "exception": false,
     "start_time": "2024-02-13T15:44:00.766897",
     "status": "completed"
    },
    "tags": []
   },
   "source": [
    "Create a function `make_prediction` that takes four arguments (area, lat, lon, and neighborhood) and returns your model's prediction for an apartment price."
   ]
  },
  {
   "cell_type": "code",
   "execution_count": 31,
   "id": "00ca28f6",
   "metadata": {
    "execution": {
     "iopub.execute_input": "2024-02-13T15:44:00.826864Z",
     "iopub.status.busy": "2024-02-13T15:44:00.826412Z",
     "iopub.status.idle": "2024-02-13T15:44:00.833379Z",
     "shell.execute_reply": "2024-02-13T15:44:00.831940Z"
    },
    "papermill": {
     "duration": 0.024502,
     "end_time": "2024-02-13T15:44:00.835651",
     "exception": false,
     "start_time": "2024-02-13T15:44:00.811149",
     "status": "completed"
    },
    "tags": []
   },
   "outputs": [],
   "source": [
    "def make_prediction(area, lat, lon, neighborhood):\n",
    "    data = {\n",
    "        \"surface_covered_in_m2\": area,\n",
    "        \"lat\": lat,\n",
    "        \"lon\": lon,\n",
    "        \"neighborhood\": neighborhood\n",
    "    }\n",
    "    \n",
    "    df = pd.DataFrame(data, index=[0])\n",
    "    \n",
    "    prediction = model.predict(df).round(2)[0]\n",
    "    \n",
    "    return f\"Predicted apartment price: ${prediction}\""
   ]
  },
  {
   "cell_type": "code",
   "execution_count": 32,
   "id": "b186ec61",
   "metadata": {
    "execution": {
     "iopub.execute_input": "2024-02-13T15:44:00.865678Z",
     "iopub.status.busy": "2024-02-13T15:44:00.865190Z",
     "iopub.status.idle": "2024-02-13T15:44:00.884608Z",
     "shell.execute_reply": "2024-02-13T15:44:00.883686Z"
    },
    "papermill": {
     "duration": 0.037355,
     "end_time": "2024-02-13T15:44:00.886966",
     "exception": false,
     "start_time": "2024-02-13T15:44:00.849611",
     "status": "completed"
    },
    "tags": []
   },
   "outputs": [
    {
     "data": {
      "text/plain": [
       "'Predicted apartment price: $250775.11'"
      ]
     },
     "execution_count": 32,
     "metadata": {},
     "output_type": "execute_result"
    }
   ],
   "source": [
    "# Trying an example to see how my model predicts\n",
    "make_prediction(110, -34.60, -58.46, \"Villa Crespo\")\n",
    "\n",
    "# This is referred to as prediction function"
   ]
  },
  {
   "cell_type": "markdown",
   "id": "b292c578",
   "metadata": {
    "papermill": {
     "duration": 0.013577,
     "end_time": "2024-02-13T15:44:00.916345",
     "exception": false,
     "start_time": "2024-02-13T15:44:00.902768",
     "status": "completed"
    },
    "tags": []
   },
   "source": [
    "Next, I want to use `Interactive Dashboard` (Minimum Viable Product). This is another type of deplyment that I will use"
   ]
  },
  {
   "cell_type": "markdown",
   "id": "8059e726",
   "metadata": {
    "papermill": {
     "duration": 0.013617,
     "end_time": "2024-02-13T15:44:00.943991",
     "exception": false,
     "start_time": "2024-02-13T15:44:00.930374",
     "status": "completed"
    },
    "tags": []
   },
   "source": [
    "Add your make_prediction to the interact widget below, run the cell, and then adjust the widget to see how predicted apartment price changes.\n",
    "\n",
    "Create an interact function in Jupyter Widgets."
   ]
  },
  {
   "cell_type": "code",
   "execution_count": 33,
   "id": "7f77356c",
   "metadata": {
    "execution": {
     "iopub.execute_input": "2024-02-13T15:44:00.975018Z",
     "iopub.status.busy": "2024-02-13T15:44:00.974086Z",
     "iopub.status.idle": "2024-02-13T15:44:01.029893Z",
     "shell.execute_reply": "2024-02-13T15:44:01.029066Z"
    },
    "papermill": {
     "duration": 0.073895,
     "end_time": "2024-02-13T15:44:01.032160",
     "exception": false,
     "start_time": "2024-02-13T15:44:00.958265",
     "status": "completed"
    },
    "tags": []
   },
   "outputs": [
    {
     "data": {
      "application/vnd.jupyter.widget-view+json": {
       "model_id": "cb4f8862e87d4ae8ab59054043184264",
       "version_major": 2,
       "version_minor": 0
      },
      "text/plain": [
       "interactive(children=(IntSlider(value=53, description='area', max=101, min=30), FloatSlider(value=-34.59890626…"
      ]
     },
     "metadata": {},
     "output_type": "display_data"
    }
   ],
   "source": [
    "interact(\n",
    "    make_prediction,\n",
    "    area=IntSlider(\n",
    "        min=X_train[\"surface_covered_in_m2\"].min(),\n",
    "        max=X_train[\"surface_covered_in_m2\"].max(),\n",
    "        value=X_train[\"surface_covered_in_m2\"].mean(),\n",
    "    ),\n",
    "    lat=FloatSlider(\n",
    "        min=X_train[\"lat\"].min(),\n",
    "        max=X_train[\"lat\"].max(),\n",
    "        step=0.01,\n",
    "        value=X_train[\"lat\"].mean(),\n",
    "    ),\n",
    "    lon=FloatSlider(\n",
    "        min=X_train[\"lon\"].min(),\n",
    "        max=X_train[\"lon\"].max(),\n",
    "        step=0.01,\n",
    "        value=X_train[\"lon\"].mean(),\n",
    "    ),\n",
    "    neighborhood=Dropdown(options=sorted(X_train[\"neighborhood\"].unique())),\n",
    ");"
   ]
  },
  {
   "cell_type": "markdown",
   "id": "91f7949d",
   "metadata": {
    "papermill": {
     "duration": 0.014162,
     "end_time": "2024-02-13T15:44:01.060831",
     "exception": false,
     "start_time": "2024-02-13T15:44:01.046669",
     "status": "completed"
    },
    "tags": []
   },
   "source": [
    "I can hover around my interactive dashboard to determine how latitude, area,longitude, latitude and neighborhood determine house prices in Buenos Aires"
   ]
  }
 ],
 "metadata": {
  "kaggle": {
   "accelerator": "none",
   "dataSources": [
    {
     "datasetId": 4433246,
     "sourceId": 7612930,
     "sourceType": "datasetVersion"
    }
   ],
   "dockerImageVersionId": 30646,
   "isGpuEnabled": false,
   "isInternetEnabled": true,
   "language": "python",
   "sourceType": "notebook"
  },
  "kernelspec": {
   "display_name": "Python 3",
   "language": "python",
   "name": "python3"
  },
  "language_info": {
   "codemirror_mode": {
    "name": "ipython",
    "version": 3
   },
   "file_extension": ".py",
   "mimetype": "text/x-python",
   "name": "python",
   "nbconvert_exporter": "python",
   "pygments_lexer": "ipython3",
   "version": "3.10.13"
  },
  "papermill": {
   "default_parameters": {},
   "duration": 10.537778,
   "end_time": "2024-02-13T15:44:01.998841",
   "environment_variables": {},
   "exception": null,
   "input_path": "__notebook__.ipynb",
   "output_path": "__notebook__.ipynb",
   "parameters": {},
   "start_time": "2024-02-13T15:43:51.461063",
   "version": "2.5.0"
  },
  "widgets": {
   "application/vnd.jupyter.widget-state+json": {
    "state": {
     "09ea72424cee4c9a9911cb988060b84b": {
      "model_module": "@jupyter-widgets/controls",
      "model_module_version": "1.5.0",
      "model_name": "SliderStyleModel",
      "state": {
       "_model_module": "@jupyter-widgets/controls",
       "_model_module_version": "1.5.0",
       "_model_name": "SliderStyleModel",
       "_view_count": null,
       "_view_module": "@jupyter-widgets/base",
       "_view_module_version": "1.2.0",
       "_view_name": "StyleView",
       "description_width": "",
       "handle_color": null
      }
     },
     "14c119ec03424435bfd5101df6de359b": {
      "model_module": "@jupyter-widgets/controls",
      "model_module_version": "1.5.0",
      "model_name": "SliderStyleModel",
      "state": {
       "_model_module": "@jupyter-widgets/controls",
       "_model_module_version": "1.5.0",
       "_model_name": "SliderStyleModel",
       "_view_count": null,
       "_view_module": "@jupyter-widgets/base",
       "_view_module_version": "1.2.0",
       "_view_name": "StyleView",
       "description_width": "",
       "handle_color": null
      }
     },
     "445e2297e4b44dd3aa00d6c9f908ecb7": {
      "model_module": "@jupyter-widgets/controls",
      "model_module_version": "1.5.0",
      "model_name": "DropdownModel",
      "state": {
       "_dom_classes": [],
       "_model_module": "@jupyter-widgets/controls",
       "_model_module_version": "1.5.0",
       "_model_name": "DropdownModel",
       "_options_labels": [
        "",
        "Abasto",
        "Agronomía",
        "Almagro",
        "Balvanera",
        "Barracas",
        "Barrio Norte",
        "Belgrano",
        "Boca",
        "Boedo",
        "Caballito",
        "Catalinas",
        "Centro / Microcentro",
        "Chacarita",
        "Coghlan",
        "Colegiales",
        "Congreso",
        "Constitución",
        "Flores",
        "Floresta",
        "Las Cañitas",
        "Liniers",
        "Mataderos",
        "Monserrat",
        "Monte Castro",
        "Nuñez",
        "Once",
        "Palermo",
        "Parque Avellaneda",
        "Parque Centenario",
        "Parque Chacabuco",
        "Parque Chas",
        "Parque Patricios",
        "Paternal",
        "Pompeya",
        "Puerto Madero",
        "Recoleta",
        "Retiro",
        "Saavedra",
        "San Cristobal",
        "San Nicolás",
        "San Telmo",
        "Tribunales",
        "Velez Sarsfield",
        "Versalles",
        "Villa Crespo",
        "Villa Devoto",
        "Villa General Mitre",
        "Villa Lugano",
        "Villa Luro",
        "Villa Ortuzar",
        "Villa Pueyrredón",
        "Villa Real",
        "Villa Santa Rita",
        "Villa Soldati",
        "Villa Urquiza",
        "Villa del Parque"
       ],
       "_view_count": null,
       "_view_module": "@jupyter-widgets/controls",
       "_view_module_version": "1.5.0",
       "_view_name": "DropdownView",
       "description": "neighborhood",
       "description_tooltip": null,
       "disabled": false,
       "index": 0,
       "layout": "IPY_MODEL_6888786afa6e4d9a94f7df8a7fcb5955",
       "style": "IPY_MODEL_50c3bca42e264ef18cfd8aa9215f469e"
      }
     },
     "4d8a8ca39acb41cb8747f10eb7cbba84": {
      "model_module": "@jupyter-widgets/controls",
      "model_module_version": "1.5.0",
      "model_name": "SliderStyleModel",
      "state": {
       "_model_module": "@jupyter-widgets/controls",
       "_model_module_version": "1.5.0",
       "_model_name": "SliderStyleModel",
       "_view_count": null,
       "_view_module": "@jupyter-widgets/base",
       "_view_module_version": "1.2.0",
       "_view_name": "StyleView",
       "description_width": "",
       "handle_color": null
      }
     },
     "50c3bca42e264ef18cfd8aa9215f469e": {
      "model_module": "@jupyter-widgets/controls",
      "model_module_version": "1.5.0",
      "model_name": "DescriptionStyleModel",
      "state": {
       "_model_module": "@jupyter-widgets/controls",
       "_model_module_version": "1.5.0",
       "_model_name": "DescriptionStyleModel",
       "_view_count": null,
       "_view_module": "@jupyter-widgets/base",
       "_view_module_version": "1.2.0",
       "_view_name": "StyleView",
       "description_width": ""
      }
     },
     "5fd6b83b348a4b1885c26bda06a59ac4": {
      "model_module": "@jupyter-widgets/base",
      "model_module_version": "1.2.0",
      "model_name": "LayoutModel",
      "state": {
       "_model_module": "@jupyter-widgets/base",
       "_model_module_version": "1.2.0",
       "_model_name": "LayoutModel",
       "_view_count": null,
       "_view_module": "@jupyter-widgets/base",
       "_view_module_version": "1.2.0",
       "_view_name": "LayoutView",
       "align_content": null,
       "align_items": null,
       "align_self": null,
       "border": null,
       "bottom": null,
       "display": null,
       "flex": null,
       "flex_flow": null,
       "grid_area": null,
       "grid_auto_columns": null,
       "grid_auto_flow": null,
       "grid_auto_rows": null,
       "grid_column": null,
       "grid_gap": null,
       "grid_row": null,
       "grid_template_areas": null,
       "grid_template_columns": null,
       "grid_template_rows": null,
       "height": null,
       "justify_content": null,
       "justify_items": null,
       "left": null,
       "margin": null,
       "max_height": null,
       "max_width": null,
       "min_height": null,
       "min_width": null,
       "object_fit": null,
       "object_position": null,
       "order": null,
       "overflow": null,
       "overflow_x": null,
       "overflow_y": null,
       "padding": null,
       "right": null,
       "top": null,
       "visibility": null,
       "width": null
      }
     },
     "646371c8f3d849bca7692fb2b4a6cd2e": {
      "model_module": "@jupyter-widgets/output",
      "model_module_version": "1.0.0",
      "model_name": "OutputModel",
      "state": {
       "_dom_classes": [],
       "_model_module": "@jupyter-widgets/output",
       "_model_module_version": "1.0.0",
       "_model_name": "OutputModel",
       "_view_count": null,
       "_view_module": "@jupyter-widgets/output",
       "_view_module_version": "1.0.0",
       "_view_name": "OutputView",
       "layout": "IPY_MODEL_740a17f4c9614dbb9824a21cf24ceb54",
       "msg_id": "",
       "outputs": [
        {
         "data": {
          "text/plain": "'Predicted apartment price: $111482.81'"
         },
         "metadata": {},
         "output_type": "display_data"
        }
       ]
      }
     },
     "6888786afa6e4d9a94f7df8a7fcb5955": {
      "model_module": "@jupyter-widgets/base",
      "model_module_version": "1.2.0",
      "model_name": "LayoutModel",
      "state": {
       "_model_module": "@jupyter-widgets/base",
       "_model_module_version": "1.2.0",
       "_model_name": "LayoutModel",
       "_view_count": null,
       "_view_module": "@jupyter-widgets/base",
       "_view_module_version": "1.2.0",
       "_view_name": "LayoutView",
       "align_content": null,
       "align_items": null,
       "align_self": null,
       "border": null,
       "bottom": null,
       "display": null,
       "flex": null,
       "flex_flow": null,
       "grid_area": null,
       "grid_auto_columns": null,
       "grid_auto_flow": null,
       "grid_auto_rows": null,
       "grid_column": null,
       "grid_gap": null,
       "grid_row": null,
       "grid_template_areas": null,
       "grid_template_columns": null,
       "grid_template_rows": null,
       "height": null,
       "justify_content": null,
       "justify_items": null,
       "left": null,
       "margin": null,
       "max_height": null,
       "max_width": null,
       "min_height": null,
       "min_width": null,
       "object_fit": null,
       "object_position": null,
       "order": null,
       "overflow": null,
       "overflow_x": null,
       "overflow_y": null,
       "padding": null,
       "right": null,
       "top": null,
       "visibility": null,
       "width": null
      }
     },
     "6c506a4e17e3463bab1664af1195136d": {
      "model_module": "@jupyter-widgets/controls",
      "model_module_version": "1.5.0",
      "model_name": "IntSliderModel",
      "state": {
       "_dom_classes": [],
       "_model_module": "@jupyter-widgets/controls",
       "_model_module_version": "1.5.0",
       "_model_name": "IntSliderModel",
       "_view_count": null,
       "_view_module": "@jupyter-widgets/controls",
       "_view_module_version": "1.5.0",
       "_view_name": "IntSliderView",
       "continuous_update": true,
       "description": "area",
       "description_tooltip": null,
       "disabled": false,
       "layout": "IPY_MODEL_897aeb21b9cd4a8391769058960c235a",
       "max": 101,
       "min": 30,
       "orientation": "horizontal",
       "readout": true,
       "readout_format": "d",
       "step": 1,
       "style": "IPY_MODEL_09ea72424cee4c9a9911cb988060b84b",
       "value": 53
      }
     },
     "740a17f4c9614dbb9824a21cf24ceb54": {
      "model_module": "@jupyter-widgets/base",
      "model_module_version": "1.2.0",
      "model_name": "LayoutModel",
      "state": {
       "_model_module": "@jupyter-widgets/base",
       "_model_module_version": "1.2.0",
       "_model_name": "LayoutModel",
       "_view_count": null,
       "_view_module": "@jupyter-widgets/base",
       "_view_module_version": "1.2.0",
       "_view_name": "LayoutView",
       "align_content": null,
       "align_items": null,
       "align_self": null,
       "border": null,
       "bottom": null,
       "display": null,
       "flex": null,
       "flex_flow": null,
       "grid_area": null,
       "grid_auto_columns": null,
       "grid_auto_flow": null,
       "grid_auto_rows": null,
       "grid_column": null,
       "grid_gap": null,
       "grid_row": null,
       "grid_template_areas": null,
       "grid_template_columns": null,
       "grid_template_rows": null,
       "height": null,
       "justify_content": null,
       "justify_items": null,
       "left": null,
       "margin": null,
       "max_height": null,
       "max_width": null,
       "min_height": null,
       "min_width": null,
       "object_fit": null,
       "object_position": null,
       "order": null,
       "overflow": null,
       "overflow_x": null,
       "overflow_y": null,
       "padding": null,
       "right": null,
       "top": null,
       "visibility": null,
       "width": null
      }
     },
     "897aeb21b9cd4a8391769058960c235a": {
      "model_module": "@jupyter-widgets/base",
      "model_module_version": "1.2.0",
      "model_name": "LayoutModel",
      "state": {
       "_model_module": "@jupyter-widgets/base",
       "_model_module_version": "1.2.0",
       "_model_name": "LayoutModel",
       "_view_count": null,
       "_view_module": "@jupyter-widgets/base",
       "_view_module_version": "1.2.0",
       "_view_name": "LayoutView",
       "align_content": null,
       "align_items": null,
       "align_self": null,
       "border": null,
       "bottom": null,
       "display": null,
       "flex": null,
       "flex_flow": null,
       "grid_area": null,
       "grid_auto_columns": null,
       "grid_auto_flow": null,
       "grid_auto_rows": null,
       "grid_column": null,
       "grid_gap": null,
       "grid_row": null,
       "grid_template_areas": null,
       "grid_template_columns": null,
       "grid_template_rows": null,
       "height": null,
       "justify_content": null,
       "justify_items": null,
       "left": null,
       "margin": null,
       "max_height": null,
       "max_width": null,
       "min_height": null,
       "min_width": null,
       "object_fit": null,
       "object_position": null,
       "order": null,
       "overflow": null,
       "overflow_x": null,
       "overflow_y": null,
       "padding": null,
       "right": null,
       "top": null,
       "visibility": null,
       "width": null
      }
     },
     "c9ddfe7ba90d4ef6ae658c5efa04fd6c": {
      "model_module": "@jupyter-widgets/controls",
      "model_module_version": "1.5.0",
      "model_name": "FloatSliderModel",
      "state": {
       "_dom_classes": [],
       "_model_module": "@jupyter-widgets/controls",
       "_model_module_version": "1.5.0",
       "_model_name": "FloatSliderModel",
       "_view_count": null,
       "_view_module": "@jupyter-widgets/controls",
       "_view_module_version": "1.5.0",
       "_view_name": "FloatSliderView",
       "continuous_update": true,
       "description": "lat",
       "description_tooltip": null,
       "disabled": false,
       "layout": "IPY_MODEL_5fd6b83b348a4b1885c26bda06a59ac4",
       "max": -34.5361079,
       "min": -34.8173937,
       "orientation": "horizontal",
       "readout": true,
       "readout_format": ".2f",
       "step": 0.01,
       "style": "IPY_MODEL_14c119ec03424435bfd5101df6de359b",
       "value": -34.59890626821523
      }
     },
     "cb4f8862e87d4ae8ab59054043184264": {
      "model_module": "@jupyter-widgets/controls",
      "model_module_version": "1.5.0",
      "model_name": "VBoxModel",
      "state": {
       "_dom_classes": [
        "widget-interact"
       ],
       "_model_module": "@jupyter-widgets/controls",
       "_model_module_version": "1.5.0",
       "_model_name": "VBoxModel",
       "_view_count": null,
       "_view_module": "@jupyter-widgets/controls",
       "_view_module_version": "1.5.0",
       "_view_name": "VBoxView",
       "box_style": "",
       "children": [
        "IPY_MODEL_6c506a4e17e3463bab1664af1195136d",
        "IPY_MODEL_c9ddfe7ba90d4ef6ae658c5efa04fd6c",
        "IPY_MODEL_f182bbfb4b6b44e8a7e74def8fff1085",
        "IPY_MODEL_445e2297e4b44dd3aa00d6c9f908ecb7",
        "IPY_MODEL_646371c8f3d849bca7692fb2b4a6cd2e"
       ],
       "layout": "IPY_MODEL_cf3f2f1eaa5a4e1cb14f988d4c42cf8c"
      }
     },
     "cf3f2f1eaa5a4e1cb14f988d4c42cf8c": {
      "model_module": "@jupyter-widgets/base",
      "model_module_version": "1.2.0",
      "model_name": "LayoutModel",
      "state": {
       "_model_module": "@jupyter-widgets/base",
       "_model_module_version": "1.2.0",
       "_model_name": "LayoutModel",
       "_view_count": null,
       "_view_module": "@jupyter-widgets/base",
       "_view_module_version": "1.2.0",
       "_view_name": "LayoutView",
       "align_content": null,
       "align_items": null,
       "align_self": null,
       "border": null,
       "bottom": null,
       "display": null,
       "flex": null,
       "flex_flow": null,
       "grid_area": null,
       "grid_auto_columns": null,
       "grid_auto_flow": null,
       "grid_auto_rows": null,
       "grid_column": null,
       "grid_gap": null,
       "grid_row": null,
       "grid_template_areas": null,
       "grid_template_columns": null,
       "grid_template_rows": null,
       "height": null,
       "justify_content": null,
       "justify_items": null,
       "left": null,
       "margin": null,
       "max_height": null,
       "max_width": null,
       "min_height": null,
       "min_width": null,
       "object_fit": null,
       "object_position": null,
       "order": null,
       "overflow": null,
       "overflow_x": null,
       "overflow_y": null,
       "padding": null,
       "right": null,
       "top": null,
       "visibility": null,
       "width": null
      }
     },
     "df23d13ffb394ddbb88b21c638bbe198": {
      "model_module": "@jupyter-widgets/base",
      "model_module_version": "1.2.0",
      "model_name": "LayoutModel",
      "state": {
       "_model_module": "@jupyter-widgets/base",
       "_model_module_version": "1.2.0",
       "_model_name": "LayoutModel",
       "_view_count": null,
       "_view_module": "@jupyter-widgets/base",
       "_view_module_version": "1.2.0",
       "_view_name": "LayoutView",
       "align_content": null,
       "align_items": null,
       "align_self": null,
       "border": null,
       "bottom": null,
       "display": null,
       "flex": null,
       "flex_flow": null,
       "grid_area": null,
       "grid_auto_columns": null,
       "grid_auto_flow": null,
       "grid_auto_rows": null,
       "grid_column": null,
       "grid_gap": null,
       "grid_row": null,
       "grid_template_areas": null,
       "grid_template_columns": null,
       "grid_template_rows": null,
       "height": null,
       "justify_content": null,
       "justify_items": null,
       "left": null,
       "margin": null,
       "max_height": null,
       "max_width": null,
       "min_height": null,
       "min_width": null,
       "object_fit": null,
       "object_position": null,
       "order": null,
       "overflow": null,
       "overflow_x": null,
       "overflow_y": null,
       "padding": null,
       "right": null,
       "top": null,
       "visibility": null,
       "width": null
      }
     },
     "f182bbfb4b6b44e8a7e74def8fff1085": {
      "model_module": "@jupyter-widgets/controls",
      "model_module_version": "1.5.0",
      "model_name": "FloatSliderModel",
      "state": {
       "_dom_classes": [],
       "_model_module": "@jupyter-widgets/controls",
       "_model_module_version": "1.5.0",
       "_model_name": "FloatSliderModel",
       "_view_count": null,
       "_view_module": "@jupyter-widgets/controls",
       "_view_module_version": "1.5.0",
       "_view_name": "FloatSliderView",
       "continuous_update": true,
       "description": "lon",
       "description_tooltip": null,
       "disabled": false,
       "layout": "IPY_MODEL_df23d13ffb394ddbb88b21c638bbe198",
       "max": -58.344687,
       "min": -58.5439579,
       "orientation": "horizontal",
       "readout": true,
       "readout_format": ".2f",
       "step": 0.01,
       "style": "IPY_MODEL_4d8a8ca39acb41cb8747f10eb7cbba84",
       "value": -58.43759615123081
      }
     }
    },
    "version_major": 2,
    "version_minor": 0
   }
  }
 },
 "nbformat": 4,
 "nbformat_minor": 5
}
